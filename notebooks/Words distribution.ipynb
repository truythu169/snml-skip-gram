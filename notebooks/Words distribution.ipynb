{
 "cells": [
  {
   "cell_type": "code",
   "execution_count": 8,
   "metadata": {},
   "outputs": [],
   "source": [
    "from collections import Counter\n",
    "import matplotlib.pyplot as plt\n",
    "import numpy as np\n",
    "import pickle\n",
    "import os"
   ]
  },
  {
   "cell_type": "code",
   "execution_count": 2,
   "metadata": {},
   "outputs": [],
   "source": [
    "def save_pkl(data, filename, local=False):\n",
    "    \"\"\" Save data to file \"\"\"\n",
    "    # create path\n",
    "    parent_dir = os.path.dirname(filename)\n",
    "    if not os.path.exists(parent_dir):\n",
    "        os.makedirs(parent_dir)\n",
    "\n",
    "    # save file\n",
    "    output = open(filename, 'wb')\n",
    "    pickle.dump(data, output, pickle.HIGHEST_PROTOCOL)\n",
    "    output.close()\n",
    "\n",
    "\n",
    "def load_pkl(filename, local=False):\n",
    "    \"\"\" Load data to pickle \"\"\"\n",
    "    input = open(filename, 'rb')\n",
    "    data = pickle.load(input)\n",
    "    input.close()\n",
    "    return data"
   ]
  },
  {
   "cell_type": "code",
   "execution_count": 3,
   "metadata": {},
   "outputs": [],
   "source": [
    "# Data file\n",
    "raw_data_path = '../../data/raw data/text8'\n",
    "context_to_dict_path = '../../data/text8_ng/dict/cont_to_int.dict'\n",
    "output_path = '../../data/text8_ng/contexts/distribution_from_raw.pkl'"
   ]
  },
  {
   "cell_type": "code",
   "execution_count": 4,
   "metadata": {},
   "outputs": [],
   "source": [
    "# Load data\n",
    "with open(raw_data_path, encoding='utf-8') as f:\n",
    "    words = f.read().split()\n",
    "    \n",
    "# Load dict\n",
    "context_to_dict = load_pkl(context_to_dict_path, local=True)\n",
    "\n",
    "# Convert vocab to int\n",
    "context = []\n",
    "for word in words:\n",
    "    if word in context_to_dict:\n",
    "        context.append(context_to_dict[word])"
   ]
  },
  {
   "cell_type": "code",
   "execution_count": 11,
   "metadata": {},
   "outputs": [],
   "source": [
    "context_counts = Counter(context)\n",
    "n_context = len(context_to_dict)\n",
    "n_data = sum(list(context_counts.values()))\n",
    "\n",
    "context_distribution = np.zeros(n_context)\n",
    "for c, count in context_counts.items():\n",
    "    context_distribution[c] = count / n_data\n",
    "    \n",
    "context_distribution = np.array(context_distribution)"
   ]
  },
  {
   "cell_type": "code",
   "execution_count": 17,
   "metadata": {},
   "outputs": [],
   "source": [
    "int_to_cont = load_pkl('../../data/text8_ng/dict/int_to_cont.dict', local=True)"
   ]
  },
  {
   "cell_type": "code",
   "execution_count": 6,
   "metadata": {},
   "outputs": [],
   "source": [
    "save_pkl(context_distribution, output_path)"
   ]
  },
  {
   "cell_type": "code",
   "execution_count": 9,
   "metadata": {},
   "outputs": [
    {
     "data": {
      "image/png": "[encoded data removed]",
      "text/plain": [
       "<Figure size 432x288 with 1 Axes>"
      ]
     },
     "metadata": {
      "needs_background": "light"
     },
     "output_type": "display_data"
    }
   ],
   "source": [
    "sorted(context_distribution)\n",
    "plt.plot(context_distribution)\n",
    "plt.show()"
   ]
  },
  {
   "cell_type": "code",
   "execution_count": 10,
   "metadata": {},
   "outputs": [
    {
     "data": {
      "text/plain": [
       "array([0.04358111, 0.02804496, 0.02650552, 0.02038944, 0.01326017,\n",
       "       0.01225511, 0.01214779, 0.01144998, 0.01081103, 0.01055045,\n",
       "       0.00469485, 0.00304925, 0.00255032, 0.00251582, 0.00240648,\n",
       "       0.00216729, 0.00216041, 0.00203276, 0.00202313, 0.00189972,\n",
       "       0.00183918, 0.00167873, 0.00158072, 0.00157871, 0.00155542,\n",
       "       0.00154833, 0.00153405, 0.00152801, 0.00149774, 0.00148292,\n",
       "       0.00141614, 0.00140725, 0.00137454, 0.00136576, 0.00133602,\n",
       "       0.00129919, 0.00125611, 0.00123843, 0.00122108, 0.00120647,\n",
       "       0.00119843, 0.00116117, 0.00113154, 0.00112476, 0.00111894,\n",
       "       0.00111661, 0.00107904, 0.0010766 , 0.00106856, 0.00106433,\n",
       "       0.00104337, 0.00104295, 0.00101956, 0.00101511, 0.00100961,\n",
       "       0.00100908, 0.00099617, 0.00099363, 0.00099225, 0.00098283,\n",
       "       0.00097034, 0.00096664, 0.0009479 , 0.0009424 , 0.00093372,\n",
       "       0.00092462, 0.00091647, 0.00088239, 0.00087974, 0.0008789 ,\n",
       "       0.00087255, 0.00085836, 0.00084693, 0.00084534, 0.00083963,\n",
       "       0.00083592, 0.00083211, 0.00083169, 0.00082523, 0.00082449,\n",
       "       0.00082238, 0.00081476, 0.00081306, 0.000812  , 0.00080735,\n",
       "       0.00080555, 0.0008028 , 0.00079941, 0.00079613, 0.00079253,\n",
       "       0.00079179, 0.00078914, 0.00078692, 0.00078502, 0.00078322,\n",
       "       0.00078089, 0.0007756 , 0.00076861, 0.00076406, 0.00075284])"
      ]
     },
     "execution_count": 10,
     "metadata": {},
     "output_type": "execute_result"
    }
   ],
   "source": [
    "context_distribution[:100]"
   ]
  },
  {
   "cell_type": "code",
   "execution_count": null,
   "metadata": {},
   "outputs": [],
   "source": []
  }
 ],
 "metadata": {
  "kernelspec": {
   "display_name": "Python 3",
   "language": "python",
   "name": "python3"
  },
  "language_info": {
   "codemirror_mode": {
    "name": "ipython",
    "version": 3
   },
   "file_extension": ".py",
   "mimetype": "text/x-python",
   "name": "python",
   "nbconvert_exporter": "python",
   "pygments_lexer": "ipython3",
   "version": "3.7.3"
  }
 },
 "nbformat": 4,
 "nbformat_minor": 2
}
