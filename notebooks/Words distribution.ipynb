{
 "cells": [
  {
   "cell_type": "code",
   "execution_count": 1,
   "metadata": {},
   "outputs": [],
   "source": [
    "from collections import Counter\n",
    "import matplotlib.pyplot as plt\n",
    "import numpy as np\n",
    "import pickle\n",
    "import os"
   ]
  },
  {
   "cell_type": "code",
   "execution_count": 2,
   "metadata": {},
   "outputs": [],
   "source": [
    "def save_pkl(data, filename, local=False):\n",
    "    \"\"\" Save data to file \"\"\"\n",
    "    # create path\n",
    "    parent_dir = os.path.dirname(filename)\n",
    "    if not os.path.exists(parent_dir):\n",
    "        os.makedirs(parent_dir)\n",
    "\n",
    "    # save file\n",
    "    output = open(filename, 'wb')\n",
    "    pickle.dump(data, output, pickle.HIGHEST_PROTOCOL)\n",
    "    output.close()\n",
    "\n",
    "\n",
    "def load_pkl(filename, local=False):\n",
    "    \"\"\" Load data to pickle \"\"\"\n",
    "    input = open(filename, 'rb')\n",
    "    data = pickle.load(input)\n",
    "    input.close()\n",
    "    return data"
   ]
  },
  {
   "cell_type": "code",
   "execution_count": 3,
   "metadata": {},
   "outputs": [],
   "source": [
    "# Data file\n",
    "raw_data_path = '../../data/raw data/text8'\n",
    "context_to_dict_path = '../../data/text8_ng4/dict/cont_to_int.dict'\n",
    "output_path = '../../data/text8_ng4/contexts/distribution_from_raw.pkl'\n",
    "int_to_cont = load_pkl('../../data/text8_ng4/dict/int_to_cont.dict', local=True)"
   ]
  },
  {
   "cell_type": "code",
   "execution_count": 4,
   "metadata": {},
   "outputs": [],
   "source": [
    "# Load data\n",
    "with open(raw_data_path, encoding='utf-8') as f:\n",
    "    words = f.read().split()\n",
    "    \n",
    "# Load dict\n",
    "context_to_dict = load_pkl(context_to_dict_path, local=True)\n",
    "\n",
    "# Convert vocab to int\n",
    "context = []\n",
    "for word in words:\n",
    "    if word in context_to_dict:\n",
    "        context.append(context_to_dict[word])"
   ]
  },
  {
   "cell_type": "code",
   "execution_count": 5,
   "metadata": {},
   "outputs": [],
   "source": [
    "context_counts = Counter(context)\n",
    "n_context = len(context_to_dict)\n",
    "n_data = sum(list(context_counts.values()))\n",
    "\n",
    "context_distribution = np.zeros(n_context)\n",
    "for c, count in context_counts.items():\n",
    "    context_distribution[c] = count / n_data\n",
    "    \n",
    "context_distribution = np.array(context_distribution)"
   ]
  },
  {
   "cell_type": "code",
   "execution_count": 6,
   "metadata": {},
   "outputs": [],
   "source": [
    "save_pkl(context_distribution, output_path)"
   ]
  },
  {
   "cell_type": "code",
   "execution_count": 7,
   "metadata": {},
   "outputs": [
    {
     "data": {
      "image/png": "[encoded data removed]",
      "text/plain": [
       "<Figure size 432x288 with 1 Axes>"
      ]
     },
     "metadata": {
      "needs_background": "light"
     },
     "output_type": "display_data"
    }
   ],
   "source": [
    "sorted(context_distribution)\n",
    "plt.plot(context_distribution)\n",
    "plt.show()"
   ]
  },
  {
   "cell_type": "code",
   "execution_count": 8,
   "metadata": {},
   "outputs": [
    {
     "data": {
      "text/plain": [
       "array([0.067647  , 0.0378374 , 0.02655343, 0.02624336, 0.02372185,\n",
       "       0.02076919, 0.0201639 , 0.01688791, 0.0159609 , 0.01227797,\n",
       "       0.01167307, 0.0084011 , 0.00798491, 0.00754897, 0.00743839,\n",
       "       0.00737969, 0.00731507, 0.00718964, 0.00712744, 0.00697951,\n",
       "       0.00689487, 0.00651011, 0.0063532 , 0.00609316, 0.00581573,\n",
       "       0.00487737, 0.00467387, 0.00464436, 0.00439414, 0.00398994,\n",
       "       0.00394673, 0.00390568, 0.0037496 , 0.00349186, 0.00347835,\n",
       "       0.00341442, 0.00282711, 0.0028064 , 0.002531  , 0.00249111,\n",
       "       0.00241335, 0.00225351, 0.00206708, 0.00200909, 0.00188442,\n",
       "       0.00183618, 0.0018198 , 0.00179481, 0.00179093, 0.00167168,\n",
       "       0.0016713 , 0.00162923, 0.00162643, 0.00161776, 0.00155594,\n",
       "       0.00153573, 0.00152942, 0.00151496, 0.00144912, 0.00144721,\n",
       "       0.00134638, 0.00131439, 0.00130553, 0.00130508, 0.00130094,\n",
       "       0.00126601, 0.00124045, 0.00122408, 0.00121828, 0.00119865,\n",
       "       0.00114396, 0.00112051, 0.00111636, 0.00110751, 0.00109852,\n",
       "       0.00102962, 0.00101088, 0.00100298, 0.00099259, 0.00096379,\n",
       "       0.00095187, 0.00095066, 0.00093663, 0.00093236, 0.00092911,\n",
       "       0.00092376, 0.00092013, 0.00091904, 0.0009019 , 0.00089298,\n",
       "       0.00085276, 0.00084741, 0.00082771, 0.00082242, 0.00081082,\n",
       "       0.00080451, 0.0008005 , 0.00079317, 0.00078794, 0.00078692])"
      ]
     },
     "execution_count": 8,
     "metadata": {},
     "output_type": "execute_result"
    }
   ],
   "source": [
    "context_distribution[:100]"
   ]
  },
  {
   "cell_type": "code",
   "execution_count": null,
   "metadata": {},
   "outputs": [],
   "source": []
  }
 ],
 "metadata": {
  "kernelspec": {
   "display_name": "Python 3",
   "language": "python",
   "name": "python3"
  },
  "language_info": {
   "codemirror_mode": {
    "name": "ipython",
    "version": 3
   },
   "file_extension": ".py",
   "mimetype": "text/x-python",
   "name": "python",
   "nbconvert_exporter": "python",
   "pygments_lexer": "ipython3",
   "version": "3.7.3"
  }
 },
 "nbformat": 4,
 "nbformat_minor": 2
}
