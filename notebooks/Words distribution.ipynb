{
 "cells": [
  {
   "cell_type": "code",
   "execution_count": 1,
   "metadata": {},
   "outputs": [],
   "source": [
    "from collections import Counter\n",
    "import matplotlib.pyplot as plt\n",
    "import numpy as np\n",
    "import pickle\n",
    "import os"
   ]
  },
  {
   "cell_type": "code",
   "execution_count": 2,
   "metadata": {},
   "outputs": [],
   "source": [
    "def save_pkl(data, filename, local=False):\n",
    "    \"\"\" Save data to file \"\"\"\n",
    "    # create path\n",
    "    parent_dir = os.path.dirname(filename)\n",
    "    if not os.path.exists(parent_dir):\n",
    "        os.makedirs(parent_dir)\n",
    "\n",
    "    # save file\n",
    "    output = open(filename, 'wb')\n",
    "    pickle.dump(data, output, pickle.HIGHEST_PROTOCOL)\n",
    "    output.close()\n",
    "\n",
    "\n",
    "def load_pkl(filename, local=False):\n",
    "    \"\"\" Load data to pickle \"\"\"\n",
    "    input = open(filename, 'rb')\n",
    "    data = pickle.load(input)\n",
    "    input.close()\n",
    "    return data"
   ]
  },
  {
   "cell_type": "code",
   "execution_count": 3,
   "metadata": {},
   "outputs": [],
   "source": [
    "# Data file\n",
    "raw_data_path = '../../data/raw data/text8'\n",
    "context_to_dict_path = '../../data/text8_ng2/dict/cont_to_int.dict'\n",
    "output_path = '../../data/text8_ng2/contexts/distribution_from_raw.pkl'"
   ]
  },
  {
   "cell_type": "code",
   "execution_count": 4,
   "metadata": {},
   "outputs": [],
   "source": [
    "# Load data\n",
    "with open(raw_data_path, encoding='utf-8') as f:\n",
    "    words = f.read().split()\n",
    "    \n",
    "# Load dict\n",
    "context_to_dict = load_pkl(context_to_dict_path, local=True)\n",
    "\n",
    "# Convert vocab to int\n",
    "context = []\n",
    "for word in words:\n",
    "    if word in context_to_dict:\n",
    "        context.append(context_to_dict[word])"
   ]
  },
  {
   "cell_type": "code",
   "execution_count": 5,
   "metadata": {},
   "outputs": [],
   "source": [
    "context_counts = Counter(context)\n",
    "n_context = len(context_to_dict)\n",
    "n_data = sum(list(context_counts.values()))\n",
    "\n",
    "context_distribution = np.zeros(n_context)\n",
    "for c, count in context_counts.items():\n",
    "    context_distribution[c] = count / n_data\n",
    "    \n",
    "context_distribution = np.array(context_distribution)"
   ]
  },
  {
   "cell_type": "code",
   "execution_count": 6,
   "metadata": {},
   "outputs": [],
   "source": [
    "int_to_cont = load_pkl('../../data/text8_ng/dict/int_to_cont.dict', local=True)"
   ]
  },
  {
   "cell_type": "code",
   "execution_count": 7,
   "metadata": {},
   "outputs": [],
   "source": [
    "save_pkl(context_distribution, output_path)"
   ]
  },
  {
   "cell_type": "code",
   "execution_count": 8,
   "metadata": {},
   "outputs": [
    {
     "data": {
      "image/png": "[encoded data removed]",
      "text/plain": [
       "<Figure size 432x288 with 1 Axes>"
      ]
     },
     "metadata": {
      "needs_background": "light"
     },
     "output_type": "display_data"
    }
   ],
   "source": [
    "sorted(context_distribution)\n",
    "plt.plot(context_distribution)\n",
    "plt.show()"
   ]
  },
  {
   "cell_type": "code",
   "execution_count": 9,
   "metadata": {},
   "outputs": [
    {
     "data": {
      "text/plain": [
       "array([0.06363057, 0.03559087, 0.02497686, 0.0246852 , 0.02231341,\n",
       "       0.01953605, 0.0189667 , 0.01588522, 0.01501325, 0.01154899,\n",
       "       0.01098   , 0.00790229, 0.00751082, 0.00710076, 0.00699675,\n",
       "       0.00694154, 0.00688075, 0.00676277, 0.00670426, 0.00656511,\n",
       "       0.0064855 , 0.00612358, 0.00597598, 0.00573139, 0.00547043,\n",
       "       0.00458778, 0.00439636, 0.00436861, 0.00413324, 0.00375304,\n",
       "       0.0037124 , 0.00367379, 0.00352697, 0.00328453, 0.00327182,\n",
       "       0.0032117 , 0.00265926, 0.00263977, 0.00238073, 0.0023432 ,\n",
       "       0.00227006, 0.00211971, 0.00194435, 0.0018898 , 0.00177254,\n",
       "       0.00172716, 0.00171175, 0.00168825, 0.00168459, 0.00157243,\n",
       "       0.00157207, 0.0015325 , 0.00152986, 0.00152171, 0.00146356,\n",
       "       0.00144455, 0.00143862, 0.00142501, 0.00136308, 0.00136128,\n",
       "       0.00126644, 0.00123635, 0.00122801, 0.00122759, 0.0012237 ,\n",
       "       0.00119084, 0.0011668 , 0.0011514 , 0.00114594, 0.00112748,\n",
       "       0.00107604, 0.00105398, 0.00105008, 0.00104175, 0.0010333 ,\n",
       "       0.00096849, 0.00095087, 0.00094343, 0.00093366, 0.00090656,\n",
       "       0.00089535, 0.00089421, 0.00088102, 0.00087701, 0.00087395,\n",
       "       0.00086891, 0.0008655 , 0.00086448, 0.00084835, 0.00083996,\n",
       "       0.00080213, 0.00079709, 0.00077857, 0.00077359, 0.00076268,\n",
       "       0.00075675, 0.00075297, 0.00074608, 0.00074116, 0.0007402 ])"
      ]
     },
     "execution_count": 9,
     "metadata": {},
     "output_type": "execute_result"
    }
   ],
   "source": [
    "context_distribution[:100]"
   ]
  },
  {
   "cell_type": "code",
   "execution_count": null,
   "metadata": {},
   "outputs": [],
   "source": []
  }
 ],
 "metadata": {
  "kernelspec": {
   "display_name": "Python 3",
   "language": "python",
   "name": "python3"
  },
  "language_info": {
   "codemirror_mode": {
    "name": "ipython",
    "version": 3
   },
   "file_extension": ".py",
   "mimetype": "text/x-python",
   "name": "python",
   "nbconvert_exporter": "python",
   "pygments_lexer": "ipython3",
   "version": "3.7.3"
  }
 },
 "nbformat": 4,
 "nbformat_minor": 2
}
