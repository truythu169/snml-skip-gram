{
 "cells": [
  {
   "cell_type": "code",
   "execution_count": 9,
   "metadata": {},
   "outputs": [],
   "source": [
    "from google.cloud import storage as gcs\n",
    "import pickle\n",
    "import numpy as np"
   ]
  },
  {
   "cell_type": "code",
   "execution_count": 2,
   "metadata": {},
   "outputs": [],
   "source": [
    "def load_pkl(filename, local=False):\n",
    "    \"\"\" Load data to pickle \"\"\"\n",
    "    input = open(filename, 'rb')\n",
    "    data = pickle.load(input)\n",
    "    input.close()\n",
    "    return data\n",
    "\n",
    "def export_embedding(embedding, filename):\n",
    "    # write embedding result to file\n",
    "    output = open(filename, 'w')\n",
    "    for i in range(embedding.shape[0]):\n",
    "        text = int_to_vocab[i]\n",
    "        for j in embedding[i]:\n",
    "            text += ' %f' % j\n",
    "        text += '\\n'\n",
    "        output.write(text)\n",
    "\n",
    "    output.close()"
   ]
  },
  {
   "cell_type": "code",
   "execution_count": 14,
   "metadata": {},
   "outputs": [],
   "source": [
    "dims = [50]\n",
    "path = '../../output/skip_gram/text8_ng4/test/{}dim/step-0/'"
   ]
  },
  {
   "cell_type": "code",
   "execution_count": 15,
   "metadata": {},
   "outputs": [],
   "source": [
    "int_to_vocab = load_pkl('../../data/text8_ng4/dict/int_to_vocab.dict')"
   ]
  },
  {
   "cell_type": "code",
   "execution_count": 16,
   "metadata": {},
   "outputs": [],
   "source": [
    "for dim in dims:\n",
    "    embedding = load_pkl(path.format(dim) + 'embedding.pkl')\n",
    "    embedding = np.array(embedding)\n",
    "    export_embedding(embedding, path.format(dim) + 'embedding.txt')"
   ]
  },
  {
   "cell_type": "code",
   "execution_count": null,
   "metadata": {},
   "outputs": [],
   "source": []
  }
 ],
 "metadata": {
  "kernelspec": {
   "display_name": "Python 3",
   "language": "python",
   "name": "python3"
  },
  "language_info": {
   "codemirror_mode": {
    "name": "ipython",
    "version": 3
   },
   "file_extension": ".py",
   "mimetype": "text/x-python",
   "name": "python",
   "nbconvert_exporter": "python",
   "pygments_lexer": "ipython3",
   "version": "3.7.3"
  }
 },
 "nbformat": 4,
 "nbformat_minor": 2
}
